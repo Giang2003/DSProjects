{
 "cells": [
  {
   "cell_type": "code",
   "execution_count": 189,
   "metadata": {},
   "outputs": [],
   "source": [
    "import pandas as pd\n",
    "import numpy as np\n",
    "import matplotlib.pyplot as plt\n",
    "%matplotlib inline\n",
    "import seaborn as sns"
   ]
  },
  {
   "cell_type": "code",
   "execution_count": 190,
   "metadata": {},
   "outputs": [
    {
     "data": {
      "text/html": [
       "<div>\n",
       "<style scoped>\n",
       "    .dataframe tbody tr th:only-of-type {\n",
       "        vertical-align: middle;\n",
       "    }\n",
       "\n",
       "    .dataframe tbody tr th {\n",
       "        vertical-align: top;\n",
       "    }\n",
       "\n",
       "    .dataframe thead th {\n",
       "        text-align: right;\n",
       "    }\n",
       "</style>\n",
       "<table border=\"1\" class=\"dataframe\">\n",
       "  <thead>\n",
       "    <tr style=\"text-align: right;\">\n",
       "      <th></th>\n",
       "      <th>Gender</th>\n",
       "      <th>Age</th>\n",
       "      <th>Income (USD)</th>\n",
       "      <th>Income Stability</th>\n",
       "      <th>Property Age</th>\n",
       "      <th>Property Location</th>\n",
       "      <th>Property Price</th>\n",
       "      <th>Loan Sanction Amount (USD)</th>\n",
       "    </tr>\n",
       "  </thead>\n",
       "  <tbody>\n",
       "    <tr>\n",
       "      <th>0</th>\n",
       "      <td>F</td>\n",
       "      <td>19</td>\n",
       "      <td>1641.25</td>\n",
       "      <td>Low</td>\n",
       "      <td>1651.25</td>\n",
       "      <td>Rural</td>\n",
       "      <td>59641.82</td>\n",
       "      <td>21026.420753</td>\n",
       "    </tr>\n",
       "    <tr>\n",
       "      <th>1</th>\n",
       "      <td>M</td>\n",
       "      <td>29</td>\n",
       "      <td>1989.71</td>\n",
       "      <td>Low</td>\n",
       "      <td>1990.71</td>\n",
       "      <td>Urban</td>\n",
       "      <td>179858.51</td>\n",
       "      <td>60595.183366</td>\n",
       "    </tr>\n",
       "    <tr>\n",
       "      <th>2</th>\n",
       "      <td>F</td>\n",
       "      <td>37</td>\n",
       "      <td>1849.91</td>\n",
       "      <td>Low</td>\n",
       "      <td>1856.91</td>\n",
       "      <td>Rural</td>\n",
       "      <td>117297.62</td>\n",
       "      <td>39181.648002</td>\n",
       "    </tr>\n",
       "    <tr>\n",
       "      <th>3</th>\n",
       "      <td>M</td>\n",
       "      <td>65</td>\n",
       "      <td>2735.18</td>\n",
       "      <td>High</td>\n",
       "      <td>2747.18</td>\n",
       "      <td>Rural</td>\n",
       "      <td>354417.72</td>\n",
       "      <td>128497.710865</td>\n",
       "    </tr>\n",
       "    <tr>\n",
       "      <th>4</th>\n",
       "      <td>F</td>\n",
       "      <td>62</td>\n",
       "      <td>4741.78</td>\n",
       "      <td>High</td>\n",
       "      <td>4740.78</td>\n",
       "      <td>Urban</td>\n",
       "      <td>82049.80</td>\n",
       "      <td>39386.919336</td>\n",
       "    </tr>\n",
       "  </tbody>\n",
       "</table>\n",
       "</div>"
      ],
      "text/plain": [
       "  Gender  Age  Income (USD) Income Stability  Property Age Property Location  \\\n",
       "0      F   19       1641.25              Low       1651.25             Rural   \n",
       "1      M   29       1989.71              Low       1990.71             Urban   \n",
       "2      F   37       1849.91              Low       1856.91             Rural   \n",
       "3      M   65       2735.18             High       2747.18             Rural   \n",
       "4      F   62       4741.78             High       4740.78             Urban   \n",
       "\n",
       "   Property Price  Loan Sanction Amount (USD)  \n",
       "0        59641.82                21026.420753  \n",
       "1       179858.51                60595.183366  \n",
       "2       117297.62                39181.648002  \n",
       "3       354417.72               128497.710865  \n",
       "4        82049.80                39386.919336  "
      ]
     },
     "execution_count": 190,
     "metadata": {},
     "output_type": "execute_result"
    }
   ],
   "source": [
    "import pandas as pd\n",
    "house_data = pd.read_csv('house_loan_updated.csv')          # Load house price data.\n",
    "house_data.head()                                       # Observe several data samples."
   ]
  },
  {
   "cell_type": "code",
   "execution_count": 191,
   "metadata": {},
   "outputs": [
    {
     "data": {
      "text/plain": [
       "Gender                        47297\n",
       "Age                           47297\n",
       "Income (USD)                  47265\n",
       "Income Stability              47285\n",
       "Property Age                  47263\n",
       "Property Location             47294\n",
       "Property Price                47297\n",
       "Loan Sanction Amount (USD)    47297\n",
       "dtype: int64"
      ]
     },
     "execution_count": 191,
     "metadata": {},
     "output_type": "execute_result"
    }
   ],
   "source": [
    "house_data.count()"
   ]
  },
  {
   "cell_type": "code",
   "execution_count": 192,
   "metadata": {},
   "outputs": [],
   "source": [
    "house_data = house_data.dropna()"
   ]
  },
  {
   "cell_type": "code",
   "execution_count": 193,
   "metadata": {},
   "outputs": [
    {
     "data": {
      "text/html": [
       "<div>\n",
       "<style scoped>\n",
       "    .dataframe tbody tr th:only-of-type {\n",
       "        vertical-align: middle;\n",
       "    }\n",
       "\n",
       "    .dataframe tbody tr th {\n",
       "        vertical-align: top;\n",
       "    }\n",
       "\n",
       "    .dataframe thead th {\n",
       "        text-align: right;\n",
       "    }\n",
       "</style>\n",
       "<table border=\"1\" class=\"dataframe\">\n",
       "  <thead>\n",
       "    <tr style=\"text-align: right;\">\n",
       "      <th></th>\n",
       "      <th>Age</th>\n",
       "      <th>Income (USD)</th>\n",
       "      <th>Property Age</th>\n",
       "      <th>Property Price</th>\n",
       "      <th>Loan Sanction Amount (USD)</th>\n",
       "    </tr>\n",
       "  </thead>\n",
       "  <tbody>\n",
       "    <tr>\n",
       "      <th>count</th>\n",
       "      <td>47251.000000</td>\n",
       "      <td>47251.000000</td>\n",
       "      <td>47251.000000</td>\n",
       "      <td>4.725100e+04</td>\n",
       "      <td>47251.000000</td>\n",
       "    </tr>\n",
       "    <tr>\n",
       "      <th>mean</th>\n",
       "      <td>40.005185</td>\n",
       "      <td>2586.498103</td>\n",
       "      <td>2586.467247</td>\n",
       "      <td>1.350981e+05</td>\n",
       "      <td>46474.467952</td>\n",
       "    </tr>\n",
       "    <tr>\n",
       "      <th>std</th>\n",
       "      <td>16.086562</td>\n",
       "      <td>1557.676706</td>\n",
       "      <td>1557.737980</td>\n",
       "      <td>9.459404e+04</td>\n",
       "      <td>32545.590334</td>\n",
       "    </tr>\n",
       "    <tr>\n",
       "      <th>min</th>\n",
       "      <td>18.000000</td>\n",
       "      <td>372.700000</td>\n",
       "      <td>370.700000</td>\n",
       "      <td>7.859620e+03</td>\n",
       "      <td>254.586578</td>\n",
       "    </tr>\n",
       "    <tr>\n",
       "      <th>25%</th>\n",
       "      <td>25.000000</td>\n",
       "      <td>1653.735000</td>\n",
       "      <td>1652.820000</td>\n",
       "      <td>6.251069e+04</td>\n",
       "      <td>21775.599375</td>\n",
       "    </tr>\n",
       "    <tr>\n",
       "      <th>50%</th>\n",
       "      <td>40.000000</td>\n",
       "      <td>2245.460000</td>\n",
       "      <td>2244.810000</td>\n",
       "      <td>1.130936e+05</td>\n",
       "      <td>38818.433721</td>\n",
       "    </tr>\n",
       "    <tr>\n",
       "      <th>75%</th>\n",
       "      <td>55.000000</td>\n",
       "      <td>3128.610000</td>\n",
       "      <td>3128.570000</td>\n",
       "      <td>1.819546e+05</td>\n",
       "      <td>62574.719455</td>\n",
       "    </tr>\n",
       "    <tr>\n",
       "      <th>max</th>\n",
       "      <td>65.000000</td>\n",
       "      <td>54662.750000</td>\n",
       "      <td>54647.750000</td>\n",
       "      <td>1.077967e+06</td>\n",
       "      <td>366131.165218</td>\n",
       "    </tr>\n",
       "  </tbody>\n",
       "</table>\n",
       "</div>"
      ],
      "text/plain": [
       "                Age  Income (USD)  Property Age  Property Price  \\\n",
       "count  47251.000000  47251.000000  47251.000000    4.725100e+04   \n",
       "mean      40.005185   2586.498103   2586.467247    1.350981e+05   \n",
       "std       16.086562   1557.676706   1557.737980    9.459404e+04   \n",
       "min       18.000000    372.700000    370.700000    7.859620e+03   \n",
       "25%       25.000000   1653.735000   1652.820000    6.251069e+04   \n",
       "50%       40.000000   2245.460000   2244.810000    1.130936e+05   \n",
       "75%       55.000000   3128.610000   3128.570000    1.819546e+05   \n",
       "max       65.000000  54662.750000  54647.750000    1.077967e+06   \n",
       "\n",
       "       Loan Sanction Amount (USD)  \n",
       "count                47251.000000  \n",
       "mean                 46474.467952  \n",
       "std                  32545.590334  \n",
       "min                    254.586578  \n",
       "25%                  21775.599375  \n",
       "50%                  38818.433721  \n",
       "75%                  62574.719455  \n",
       "max                 366131.165218  "
      ]
     },
     "execution_count": 193,
     "metadata": {},
     "output_type": "execute_result"
    }
   ],
   "source": [
    "house_data.describe()"
   ]
  },
  {
   "cell_type": "code",
   "execution_count": 194,
   "metadata": {},
   "outputs": [
    {
     "data": {
      "text/plain": [
       "Gender                        0\n",
       "Age                           0\n",
       "Income (USD)                  0\n",
       "Income Stability              0\n",
       "Property Age                  0\n",
       "Property Location             0\n",
       "Property Price                0\n",
       "Loan Sanction Amount (USD)    0\n",
       "dtype: int64"
      ]
     },
     "execution_count": 194,
     "metadata": {},
     "output_type": "execute_result"
    }
   ],
   "source": [
    "house_data.isnull().sum()"
   ]
  },
  {
   "cell_type": "code",
   "execution_count": 195,
   "metadata": {},
   "outputs": [],
   "source": [
    "##Converting category labels into numerical using LabelEncoder\n",
    "from sklearn.preprocessing import LabelEncoder\n",
    "label = LabelEncoder()\n",
    "label.fit(house_data.Gender.drop_duplicates())\n",
    "house_data.Gender = label.transform(house_data.Gender)\n",
    "label.fit(house_data['Income Stability'].drop_duplicates())\n",
    "house_data['Income Stability'] = label.transform(house_data['Income Stability'])\n",
    "label.fit(house_data['Property Location'].drop_duplicates())\n",
    "house_data['Property Location'] = label.transform(house_data['Property Location'])"
   ]
  },
  {
   "cell_type": "code",
   "execution_count": 196,
   "metadata": {},
   "outputs": [
    {
     "data": {
      "text/html": [
       "<div>\n",
       "<style scoped>\n",
       "    .dataframe tbody tr th:only-of-type {\n",
       "        vertical-align: middle;\n",
       "    }\n",
       "\n",
       "    .dataframe tbody tr th {\n",
       "        vertical-align: top;\n",
       "    }\n",
       "\n",
       "    .dataframe thead th {\n",
       "        text-align: right;\n",
       "    }\n",
       "</style>\n",
       "<table border=\"1\" class=\"dataframe\">\n",
       "  <thead>\n",
       "    <tr style=\"text-align: right;\">\n",
       "      <th></th>\n",
       "      <th>Gender</th>\n",
       "      <th>Age</th>\n",
       "      <th>Income (USD)</th>\n",
       "      <th>Income Stability</th>\n",
       "      <th>Property Age</th>\n",
       "      <th>Property Location</th>\n",
       "      <th>Property Price</th>\n",
       "      <th>Loan Sanction Amount (USD)</th>\n",
       "    </tr>\n",
       "  </thead>\n",
       "  <tbody>\n",
       "    <tr>\n",
       "      <th>0</th>\n",
       "      <td>0</td>\n",
       "      <td>19</td>\n",
       "      <td>1641.25</td>\n",
       "      <td>1</td>\n",
       "      <td>1651.25</td>\n",
       "      <td>0</td>\n",
       "      <td>59641.82</td>\n",
       "      <td>21026.420753</td>\n",
       "    </tr>\n",
       "    <tr>\n",
       "      <th>1</th>\n",
       "      <td>1</td>\n",
       "      <td>29</td>\n",
       "      <td>1989.71</td>\n",
       "      <td>1</td>\n",
       "      <td>1990.71</td>\n",
       "      <td>2</td>\n",
       "      <td>179858.51</td>\n",
       "      <td>60595.183366</td>\n",
       "    </tr>\n",
       "    <tr>\n",
       "      <th>2</th>\n",
       "      <td>0</td>\n",
       "      <td>37</td>\n",
       "      <td>1849.91</td>\n",
       "      <td>1</td>\n",
       "      <td>1856.91</td>\n",
       "      <td>0</td>\n",
       "      <td>117297.62</td>\n",
       "      <td>39181.648002</td>\n",
       "    </tr>\n",
       "    <tr>\n",
       "      <th>3</th>\n",
       "      <td>1</td>\n",
       "      <td>65</td>\n",
       "      <td>2735.18</td>\n",
       "      <td>0</td>\n",
       "      <td>2747.18</td>\n",
       "      <td>0</td>\n",
       "      <td>354417.72</td>\n",
       "      <td>128497.710865</td>\n",
       "    </tr>\n",
       "    <tr>\n",
       "      <th>4</th>\n",
       "      <td>0</td>\n",
       "      <td>62</td>\n",
       "      <td>4741.78</td>\n",
       "      <td>0</td>\n",
       "      <td>4740.78</td>\n",
       "      <td>2</td>\n",
       "      <td>82049.80</td>\n",
       "      <td>39386.919336</td>\n",
       "    </tr>\n",
       "    <tr>\n",
       "      <th>...</th>\n",
       "      <td>...</td>\n",
       "      <td>...</td>\n",
       "      <td>...</td>\n",
       "      <td>...</td>\n",
       "      <td>...</td>\n",
       "      <td>...</td>\n",
       "      <td>...</td>\n",
       "      <td>...</td>\n",
       "    </tr>\n",
       "    <tr>\n",
       "      <th>47292</th>\n",
       "      <td>0</td>\n",
       "      <td>62</td>\n",
       "      <td>2121.48</td>\n",
       "      <td>1</td>\n",
       "      <td>2135.48</td>\n",
       "      <td>0</td>\n",
       "      <td>240291.63</td>\n",
       "      <td>78800.491330</td>\n",
       "    </tr>\n",
       "    <tr>\n",
       "      <th>47293</th>\n",
       "      <td>1</td>\n",
       "      <td>38</td>\n",
       "      <td>1506.72</td>\n",
       "      <td>1</td>\n",
       "      <td>1505.72</td>\n",
       "      <td>0</td>\n",
       "      <td>218431.37</td>\n",
       "      <td>72483.293359</td>\n",
       "    </tr>\n",
       "    <tr>\n",
       "      <th>47294</th>\n",
       "      <td>0</td>\n",
       "      <td>20</td>\n",
       "      <td>1595.10</td>\n",
       "      <td>1</td>\n",
       "      <td>1582.10</td>\n",
       "      <td>1</td>\n",
       "      <td>154458.88</td>\n",
       "      <td>52462.861498</td>\n",
       "    </tr>\n",
       "    <tr>\n",
       "      <th>47295</th>\n",
       "      <td>0</td>\n",
       "      <td>50</td>\n",
       "      <td>2002.27</td>\n",
       "      <td>1</td>\n",
       "      <td>2007.27</td>\n",
       "      <td>1</td>\n",
       "      <td>72277.78</td>\n",
       "      <td>22909.596763</td>\n",
       "    </tr>\n",
       "    <tr>\n",
       "      <th>47296</th>\n",
       "      <td>0</td>\n",
       "      <td>46</td>\n",
       "      <td>492.91</td>\n",
       "      <td>1</td>\n",
       "      <td>497.91</td>\n",
       "      <td>0</td>\n",
       "      <td>24597.61</td>\n",
       "      <td>5941.989388</td>\n",
       "    </tr>\n",
       "  </tbody>\n",
       "</table>\n",
       "<p>47251 rows × 8 columns</p>\n",
       "</div>"
      ],
      "text/plain": [
       "       Gender  Age  Income (USD)  Income Stability  Property Age  \\\n",
       "0           0   19       1641.25                 1       1651.25   \n",
       "1           1   29       1989.71                 1       1990.71   \n",
       "2           0   37       1849.91                 1       1856.91   \n",
       "3           1   65       2735.18                 0       2747.18   \n",
       "4           0   62       4741.78                 0       4740.78   \n",
       "...       ...  ...           ...               ...           ...   \n",
       "47292       0   62       2121.48                 1       2135.48   \n",
       "47293       1   38       1506.72                 1       1505.72   \n",
       "47294       0   20       1595.10                 1       1582.10   \n",
       "47295       0   50       2002.27                 1       2007.27   \n",
       "47296       0   46        492.91                 1        497.91   \n",
       "\n",
       "       Property Location  Property Price  Loan Sanction Amount (USD)  \n",
       "0                      0        59641.82                21026.420753  \n",
       "1                      2       179858.51                60595.183366  \n",
       "2                      0       117297.62                39181.648002  \n",
       "3                      0       354417.72               128497.710865  \n",
       "4                      2        82049.80                39386.919336  \n",
       "...                  ...             ...                         ...  \n",
       "47292                  0       240291.63                78800.491330  \n",
       "47293                  0       218431.37                72483.293359  \n",
       "47294                  1       154458.88                52462.861498  \n",
       "47295                  1        72277.78                22909.596763  \n",
       "47296                  0        24597.61                 5941.989388  \n",
       "\n",
       "[47251 rows x 8 columns]"
      ]
     },
     "execution_count": 196,
     "metadata": {},
     "output_type": "execute_result"
    }
   ],
   "source": [
    "house_data"
   ]
  },
  {
   "cell_type": "markdown",
   "metadata": {},
   "source": [
    "LINEAR REGRESSION MODEL"
   ]
  },
  {
   "cell_type": "code",
   "execution_count": 197,
   "metadata": {},
   "outputs": [
    {
     "name": "stdout",
     "output_type": "stream",
     "text": [
      "(37800, 7)\n",
      "(9451, 7)\n"
     ]
    }
   ],
   "source": [
    "from sklearn.model_selection import train_test_split as holdout\n",
    "from sklearn.linear_model import LinearRegression\n",
    "from sklearn import metrics\n",
    "# Pre-process data, determine feature x and label y\n",
    "x = house_data.drop(['Loan Sanction Amount (USD)'], axis = 1)\n",
    "y = house_data['Loan Sanction Amount (USD)']\n",
    "# Split the data into two subsets for training and testing.\n",
    "x_train, x_test, y_train, y_test = holdout(x, y, test_size=0.2, random_state=0)\n",
    "print(x_train.shape)\n",
    "print(x_test.shape)\n"
   ]
  },
  {
   "cell_type": "code",
   "execution_count": 198,
   "metadata": {},
   "outputs": [
    {
     "name": "stdout",
     "output_type": "stream",
     "text": [
      "11927.678901122039\n",
      "[-2.51769669e+02 -7.93352336e+01  5.89139951e-01 -1.11589577e+04\n",
      "  4.37626252e-01 -6.29708551e+01  3.36185984e-01]\n"
     ]
    },
    {
     "name": "stderr",
     "output_type": "stream",
     "text": [
      "c:\\Users\\admin\\AppData\\Local\\Programs\\Python\\Python310\\lib\\site-packages\\sklearn\\linear_model\\_base.py:141: FutureWarning: 'normalize' was deprecated in version 1.0 and will be removed in 1.2.\n",
      "If you wish to scale the data, use Pipeline with a StandardScaler in a preprocessing stage. To reproduce the previous behavior:\n",
      "\n",
      "from sklearn.pipeline import make_pipeline\n",
      "\n",
      "model = make_pipeline(StandardScaler(with_mean=False), LinearRegression())\n",
      "\n",
      "If you wish to pass a sample_weight parameter, you need to pass it as a fit parameter to each step of the pipeline as follows:\n",
      "\n",
      "kwargs = {s[0] + '__sample_weight': sample_weight for s in model.steps}\n",
      "model.fit(X, y, **kwargs)\n",
      "\n",
      "\n",
      "  warnings.warn(\n"
     ]
    }
   ],
   "source": [
    "# Initialize Linear Regression model with normalization.\n",
    "Lin_reg = LinearRegression(normalize=True)\n",
    "Lin_reg.fit(x_train, y_train)\n",
    "print(Lin_reg.intercept_)\n",
    "print(Lin_reg.coef_)"
   ]
  },
  {
   "cell_type": "code",
   "execution_count": 205,
   "metadata": {},
   "outputs": [
    {
     "data": {
      "text/plain": [
       "array([19408.0136567 , 35905.70022654, 38120.1760842 , 79892.24484457,\n",
       "       38812.05785755])"
      ]
     },
     "execution_count": 205,
     "metadata": {},
     "output_type": "execute_result"
    }
   ],
   "source": [
    "Lin_reg.predict(x_test[:5])"
   ]
  },
  {
   "cell_type": "markdown",
   "metadata": {},
   "source": [
    "EVALUATE THE MODEL"
   ]
  },
  {
   "cell_type": "code",
   "execution_count": 199,
   "metadata": {},
   "outputs": [
    {
     "data": {
      "text/plain": [
       "147.23895690596618"
      ]
     },
     "execution_count": 199,
     "metadata": {},
     "output_type": "execute_result"
    }
   ],
   "source": [
    "# The mean squared error\n",
    "from sklearn.metrics import mean_absolute_error\n",
    "pred = Lin_reg.predict(x_test)\n",
    "mean_absolute_error(y_pred=pred, y_true=y_test)"
   ]
  },
  {
   "cell_type": "code",
   "execution_count": 200,
   "metadata": {},
   "outputs": [
    {
     "name": "stdout",
     "output_type": "stream",
     "text": [
      "0.9982035736392855\n"
     ]
    }
   ],
   "source": [
    "# The coefficient of determination\n",
    "from sklearn.metrics import r2_score\n",
    "print(r2_score(y_true = y_test, y_pred=pred)) "
   ]
  }
 ],
 "metadata": {
  "kernelspec": {
   "display_name": "Python 3.10.0 64-bit",
   "language": "python",
   "name": "python3"
  },
  "language_info": {
   "codemirror_mode": {
    "name": "ipython",
    "version": 3
   },
   "file_extension": ".py",
   "mimetype": "text/x-python",
   "name": "python",
   "nbconvert_exporter": "python",
   "pygments_lexer": "ipython3",
   "version": "3.10.0"
  },
  "orig_nbformat": 4,
  "vscode": {
   "interpreter": {
    "hash": "beedbe2faf2f7048d727558d0bc3221e7eba2a0b921cac4d4771b2feb8f74b30"
   }
  }
 },
 "nbformat": 4,
 "nbformat_minor": 2
}
